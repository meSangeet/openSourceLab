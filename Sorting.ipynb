{
 "cells": [
  {
   "cell_type": "markdown",
   "id": "21794c39-8a85-419d-b797-affb2e3bcf97",
   "metadata": {},
   "source": [
    "Basic Sortig Techniques Using Python\n",
    "\n",
    "1. bubble sort  -  O(n^2)"
   ]
  },
  {
   "cell_type": "code",
   "execution_count": 8,
   "id": "bf44f8a9-aba3-4aa0-b576-89f27b531745",
   "metadata": {},
   "outputs": [
    {
     "name": "stdin",
     "output_type": "stream",
     "text": [
      "enter size of array -  5\n",
      "enter element no 1 -  5\n",
      "enter element no 2 -  4\n",
      "enter element no 3 -  3\n",
      "enter element no 4 -  2\n",
      "enter element no 5 -  1\n"
     ]
    },
    {
     "name": "stdout",
     "output_type": "stream",
     "text": [
      "Sorted array is: - \n",
      "['1', '2', '3', '4', '5']\n"
     ]
    }
   ],
   "source": [
    "def bubbleSort(arr):\n",
    "    n = len(arr)\n",
    "    swapped = False\n",
    "    for i in range(n-1):\n",
    "        for j in range(0, n-i-1):\n",
    "            if arr[j] > arr[j + 1]:\n",
    "                swapped = True\n",
    "                arr[j], arr[j + 1] = arr[j + 1], arr[j]\n",
    "         \n",
    "        if not swapped:\n",
    "            return\n",
    "\n",
    "arr = [] \n",
    "n = int(input(\"enter size of array - \"))\n",
    "for i in range(0, n):\n",
    "    a = input(\"enter element no %d - \" %(i+1));\n",
    "    arr.append(a)\n",
    "bubbleSort(arr)\n",
    "print(\"Sorted array is: - \")\n",
    "print(arr)"
   ]
  },
  {
   "cell_type": "markdown",
   "id": "9289ec6d-2275-4b22-b81d-1ccfbc1e0ec7",
   "metadata": {},
   "source": [
    "2. Insertion Sort - O(n^2)"
   ]
  },
  {
   "cell_type": "code",
   "execution_count": 9,
   "id": "eca51376-de05-4f2c-a8f1-378e96530850",
   "metadata": {},
   "outputs": [
    {
     "name": "stdin",
     "output_type": "stream",
     "text": [
      "enter size of array -  5\n",
      "enter element no 1 -  1\n",
      "enter element no 2 -  4\n",
      "enter element no 3 -  3\n",
      "enter element no 4 -  6\n",
      "enter element no 5 -  3\n"
     ]
    },
    {
     "name": "stdout",
     "output_type": "stream",
     "text": [
      "Sorted array is: - \n",
      "['1', '3', '3', '4', '6']\n"
     ]
    }
   ],
   "source": [
    "def insertion_sort(arr):\n",
    "    for i in range(1, len(arr)):\n",
    "        key = arr[i]\n",
    "        j = i - 1\n",
    "        while j >= 0 and key < arr[j]:\n",
    "            arr[j + 1] = arr[j]\n",
    "            j -= 1\n",
    "\n",
    "        arr[j + 1] = key\n",
    "\n",
    "arr = [] \n",
    "n = int(input(\"enter size of array - \"))\n",
    "for i in range(0, n):\n",
    "    a = input(\"enter element no %d - \" %(i+1));\n",
    "    arr.append(a)\n",
    "bubbleSort(arr)\n",
    "print(\"Sorted array is: - \")\n",
    "print(arr)\n"
   ]
  },
  {
   "cell_type": "markdown",
   "id": "75860e52-0a89-445d-877f-b72e03a4d813",
   "metadata": {},
   "source": [
    "3. Selection Sort - o(n^2)"
   ]
  },
  {
   "cell_type": "code",
   "execution_count": null,
   "id": "244cd2a4-eef8-451b-918d-c94d4c0aa28b",
   "metadata": {},
   "outputs": [],
   "source": [
    "def selection_sort(arr):\n",
    "    n = len(arr)\n",
    "\n",
    "    for i in range(n):\n",
    "        # Assume the current index 'i' has the minimum value\n",
    "        min_index = i\n",
    "\n",
    "        # Find the index of the minimum element in the unsorted part of the array\n",
    "        for j in range(i + 1, n):\n",
    "            if arr[j] < arr[min_index]:\n",
    "                min_index = j\n",
    "\n",
    "        # Swap the found minimum element with the element at index 'i'\n",
    "        arr[i], arr[min_index] = arr[min_index], arr[i]\n",
    "\n",
    "arr = [] \n",
    "n = int(input(\"enter size of array - \"))\n",
    "for i in range(0, n):\n",
    "    a = input(\"enter element no %d - \" %(i+1));\n",
    "    arr.append(a)\n",
    "bubbleSort(arr)\n",
    "print(\"Sorted array is: - \")\n",
    "print(arr)"
   ]
  }
 ],
 "metadata": {
  "kernelspec": {
   "display_name": "Python 3 (ipykernel)",
   "language": "python",
   "name": "python3"
  },
  "language_info": {
   "codemirror_mode": {
    "name": "ipython",
    "version": 3
   },
   "file_extension": ".py",
   "mimetype": "text/x-python",
   "name": "python",
   "nbconvert_exporter": "python",
   "pygments_lexer": "ipython3",
   "version": "3.10.5"
  }
 },
 "nbformat": 4,
 "nbformat_minor": 5
}
